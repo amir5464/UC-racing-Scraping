{
 "cells": [
  {
   "cell_type": "code",
   "execution_count": 1,
   "metadata": {},
   "outputs": [
    {
     "data": {
      "text/plain": [
       "'4.9.0'"
      ]
     },
     "execution_count": 1,
     "metadata": {},
     "output_type": "execute_result"
    }
   ],
   "source": [
    "# selenium 3\n",
    "import selenium\n",
    "selenium.__version__"
   ]
  },
  {
   "cell_type": "code",
   "execution_count": 2,
   "metadata": {},
   "outputs": [],
   "source": [
    "# selenium 4\n",
    "from selenium import webdriver\n",
    "from selenium.webdriver.edge.service import Service as EdgeService\n",
    "from webdriver_manager.microsoft import EdgeChromiumDriverManager\n",
    "from selenium.webdriver.edge.webdriver import WebDriver\n",
    "from selenium.webdriver.common.by import By\n",
    "from selenium.webdriver.support import expected_conditions as EC\n",
    "from selenium.webdriver.support.ui import WebDriverWait\n",
    "import time\n"
   ]
  },
  {
   "cell_type": "code",
   "execution_count": 3,
   "metadata": {},
   "outputs": [
    {
     "name": "stdout",
     "output_type": "stream",
     "text": [
      "Switched to main iframe\n"
     ]
    }
   ],
   "source": [
    "\n",
    "import csv\n",
    "\n",
    "# Initialize Edge WebDriver\n",
    "driver = webdriver.Edge(service=EdgeService(EdgeChromiumDriverManager().install()))\n",
    "\n",
    "# Open the main page\n",
    "driver.get(\"https://www.racingpost.com/racecards/us-racing\")\n",
    "driver.maximize_window()\n",
    "\n",
    "# Wait for the iframe to be available and switch to it\n",
    "iframe = WebDriverWait(driver, 10).until(\n",
    "    EC.presence_of_element_located((By.XPATH, \"/html/body/div[3]/div/main/div/iframe\"))\n",
    ")\n",
    "driver.switch_to.frame(iframe)\n",
    "print(\"Switched to main iframe\")\n",
    "\n",
    "# Function to get fresh buttons from shadow DOM\n",
    "def get_fresh_buttons():\n",
    "    return driver.execute_script('''\n",
    "        const elements = [];\n",
    "        const shadowHosts = document.querySelectorAll('div.ssg-module');\n",
    "        shadowHosts.forEach(shadowHost => {\n",
    "            const shadowRoot = shadowHost.shadowRoot;\n",
    "            if (shadowRoot) {\n",
    "                const tracks = shadowRoot.querySelectorAll('div.ssg-module-1jbtlky');\n",
    "                tracks.forEach(track => {\n",
    "                    const trackName = track.querySelector('span.ssg-module-5e06qd').textContent;\n",
    "                    const buttons = track.querySelectorAll('button.ssg-module-1wckp3v');\n",
    "                    buttons.forEach(button => {\n",
    "                        elements.push({trackName: trackName, button: button});\n",
    "                    });\n",
    "                });\n",
    "            }\n",
    "        });\n",
    "        return elements;\n",
    "    ''')\n",
    "\n",
    "# Get initial list of race buttons\n",
    "race_buttons = get_fresh_buttons()\n",
    "clicked = False\n",
    "time.sleep(10)"
   ]
  },
  {
   "cell_type": "code",
   "execution_count": 4,
   "metadata": {},
   "outputs": [
    {
     "name": "stdout",
     "output_type": "stream",
     "text": [
      "Attempting to click race button for track: Belterra Park\n"
     ]
    }
   ],
   "source": [
    "\n",
    "# Iterate over each button and click if the track name is \"Finger Lakes\"\n",
    "for race in race_buttons:\n",
    "    if clicked:\n",
    "        break\n",
    "\n",
    "    track_name = race['trackName']\n",
    "    button = race['button']\n",
    "    if track_name == \"Belterra Park\":\n",
    "        print(f\"Attempting to click race button for track: {track_name}\")\n",
    "        # Scroll button into view\n",
    "        driver.execute_script(\"arguments[0].scrollIntoView();\", button)\n",
    "        # Click the button\n",
    "        button.click()\n",
    "        time.sleep(5)  # wait for the new content to load\n",
    "        clicked = True\n",
    "        "
   ]
  },
  {
   "cell_type": "code",
   "execution_count": 5,
   "metadata": {},
   "outputs": [],
   "source": [
    "# Function to get fresh buttons from shadow DOM\n",
    "def get_fresh_page():\n",
    "    # Switch back to the default content\n",
    "    driver.switch_to.default_content()\n",
    "    \n",
    "    # Find the new iframe element\n",
    "    iframe = WebDriverWait(driver, 10).until(\n",
    "        EC.presence_of_element_located((By.XPATH, \"/html/body/div[3]/div/main/div/iframe\"))\n",
    "    )\n",
    "    \n",
    "    # Switch to the new iframe\n",
    "    driver.switch_to.frame(iframe)\n",
    "    \n",
    "    # Get the buttons from the shadow DOM\n",
    "    return driver.execute_script('''\n",
    "        const shadowHosts = document.querySelectorAll('div.ssg-module');\n",
    "        return Array.from(shadowHosts).map(shadowHost => {\n",
    "            const shadowRoot = shadowHost.shadowRoot;\n",
    "            if (shadowRoot) {\n",
    "                const detailsButton = shadowRoot.querySelector('div.ssg-module-1ilgfmd > div.ssg-module-1kmgbcx > button');\n",
    "                if (detailsButton) {\n",
    "                 detailsButton.click();\n",
    "                }\n",
    "                return Array.from(shadowRoot.querySelectorAll('div.ssg-module-rd2reb > button'));\n",
    "            }\n",
    "            return [];\n",
    "        }).flat();\n",
    "    ''')"
   ]
  },
  {
   "cell_type": "code",
   "execution_count": 6,
   "metadata": {},
   "outputs": [],
   "source": [
    "def get_horse_data():\n",
    "    script = '''\n",
    "        const elements = [];\n",
    "        const shadowHosts = document.querySelectorAll('div.ssg-module');\n",
    "        shadowHosts.forEach(shadowHost => {\n",
    "            const shadowRoot = shadowHost.shadowRoot;\n",
    "            if (shadowRoot) {           \n",
    "                const horses = shadowRoot.querySelectorAll('div.ssg-module-y3rnh0');                 \n",
    "                horses.forEach((horse, index) => {\n",
    "                    const nthChildIndex = index + 3;\n",
    "\n",
    "                    // Select horse name\n",
    "                    const horseIDElement = horse.querySelector(`div.ssg-module-1ilgfmd > div:nth-child(${nthChildIndex}) > div.ssg-module-1mx1a43 > div.ssg-module-gryhqf > div.ssg-module-15btxpu > div.ssg-module-3bxiye > div`);\n",
    "                    const horseID = horseIDElement ? horseIDElement.textContent.trim() : '';\n",
    "\n",
    "                    // Select horse name\n",
    "                    const horseNameElement = horse.querySelector(`div.ssg-module-1ilgfmd > div:nth-child(${nthChildIndex}) > div.ssg-module-1mx1a43 > div.ssg-module-gryhqf > div.ssg-module-15btxpu > div.ssg-module-12dzwx5 > span`);\n",
    "                    const horseName = horseNameElement ? horseNameElement.textContent.trim() : '';\n",
    "\n",
    "                    // Get table data\n",
    "                    const tableRows = horse.querySelectorAll(`div > div > div.ssg-module-10d5d1z > div.ssg-module-1ilgfmd > div:nth-child(${nthChildIndex}) > div.ssg-module-1goivjb > div.ssg-module-1vr8bhw > div > div[class*='ssg-module-'] > div[class*='ssg-module-']`);\n",
    "                    const tableData = [];\n",
    "                    tableRows.forEach((row, index) => {\n",
    "                        if (index >= 4) {\n",
    "                            const rowData = row.textContent.trim();\n",
    "                            tableData.push(rowData);\n",
    "                        }\n",
    "                    });\n",
    "\n",
    "                    elements.push({horseID: horseID, horseName: horseName, tableData: tableData});\n",
    "                });\n",
    "            }\n",
    "        });\n",
    "        return elements;\n",
    "    '''\n",
    "    \n",
    "    races = driver.execute_script(script)\n",
    "    return races"
   ]
  },
  {
   "cell_type": "code",
   "execution_count": 7,
   "metadata": {},
   "outputs": [],
   "source": [
    "def write_horse_data_to_csv(track_name, time_info,data):\n",
    "    output_file= f\"{track_name}_{time_info.replace(':', '').replace(' ', '_')}.csv\"\n",
    "    # Extract all possible keys from the data\n",
    "    fieldnames = ['horseID', 'horseName', 'Date', 'Course', 'Surface', 'Class', 'Dist.', 'Gng', 'Wgt.', 'Finish Pos.', 'Winner / 2nd', 'Jky', 'SP']\n",
    "\n",
    "    # Writing data to CSV\n",
    "    with open(output_file, mode='w', newline='', encoding='utf-8') as file:\n",
    "        writer = csv.DictWriter(file, fieldnames=fieldnames)\n",
    "        writer.writeheader()\n",
    "        \n",
    "        for entry in data:\n",
    "            horseID = entry.get('horseID', '')\n",
    "            horseName = entry.get('horseName', '')\n",
    "            \n",
    "            if 'tableData' in entry and 'Date' in entry['tableData']:\n",
    "                num_entries = len(entry['tableData']['Date'])\n",
    "                for i in range(num_entries):\n",
    "                    row = {\n",
    "                        'horseID': horseID,\n",
    "                        'horseName': horseName,\n",
    "                        'Date': entry['tableData']['Date'][i],\n",
    "                        'Course': entry['tableData'].get('Course', [''])[i],\n",
    "                        'Surface': entry['tableData'].get('Surface', [''])[i],\n",
    "                        'Class': entry['tableData'].get('Class', [''])[i],\n",
    "                        'Dist.': entry['tableData'].get('Dist.', [''])[i],\n",
    "                        'Gng': entry['tableData'].get('Gng', [''])[i],\n",
    "                        'Wgt.': entry['tableData'].get('Wgt.', [''])[i],\n",
    "                        'Finish Pos.': entry['tableData'].get('Finish Pos.', [''])[i],\n",
    "                        'Winner / 2nd': entry['tableData'].get('Winner / 2nd', [''])[i],\n",
    "                        'Jky': entry['tableData'].get('Jky', [''])[i],\n",
    "                        'SP': entry['tableData'].get('SP', [''])[i]\n",
    "                    }\n",
    "                    writer.writerow(row)\n",
    "            else:\n",
    "                # If there's no tableData or no Date, just write one row with horseID and horseName\n",
    "                row = {\n",
    "                    'horseID': horseID,\n",
    "                    'horseName': horseName,\n",
    "                    'Date': '',\n",
    "                    'Course': '',\n",
    "                    'Surface': '',\n",
    "                    'Class': '',\n",
    "                    'Dist.': '',\n",
    "                    'Gng': '',\n",
    "                    'Wgt.': '',\n",
    "                    'Finish Pos.': '',\n",
    "                    'Winner / 2nd': '',\n",
    "                    'Jky': '',\n",
    "                    'SP': ''\n",
    "                }\n",
    "                writer.writerow(row)\n",
    "    \n",
    "    print(f\"CSV file '{output_file}' has been created successfully.\")"
   ]
  },
  {
   "cell_type": "code",
   "execution_count": 8,
   "metadata": {},
   "outputs": [],
   "source": [
    "def structure_horse_data(data):\n",
    "    for entry in data:\n",
    "        table_data = entry.get('tableData', [])  # Use .get() to safely handle missing 'tableData'\n",
    "        \n",
    "        if not table_data:\n",
    "            # If table_data is empty or not present, skip processing\n",
    "            continue\n",
    "        \n",
    "        # Extract headers and rows\n",
    "        headers = table_data[:11]\n",
    "        rows = table_data[11:]\n",
    "        \n",
    "        # Initialize the dictionary with headers as keys and empty lists as values\n",
    "        structured_data = {header: [] for header in headers}\n",
    "        \n",
    "        # Populate the dictionary with the data\n",
    "        num_columns = len(headers)\n",
    "        num_rows = len(rows) // num_columns\n",
    "        for i in range(num_rows):\n",
    "            for j, header in enumerate(headers):\n",
    "                structured_data[header].append(rows[i * num_columns + j])\n",
    "        \n",
    "        # Update the dictionary with the new structured data\n",
    "        entry['tableData'] = structured_data\n",
    "    \n",
    "    return data"
   ]
  },
  {
   "cell_type": "code",
   "execution_count": 9,
   "metadata": {},
   "outputs": [],
   "source": [
    "listButton=get_fresh_page()"
   ]
  },
  {
   "cell_type": "code",
   "execution_count": 10,
   "metadata": {},
   "outputs": [
    {
     "name": "stdout",
     "output_type": "stream",
     "text": [
      "CSV file 'Belterra Park_915_PM.csv' has been created successfully.\n",
      "CSV file 'Belterra Park_945_PM.csv' has been created successfully.\n",
      "CSV file 'Belterra Park_1015_PM.csv' has been created successfully.\n",
      "CSV file 'Belterra Park_1045_PM.csv' has been created successfully.\n",
      "CSV file 'Belterra Park_1115_PM.csv' has been created successfully.\n",
      "CSV file 'Belterra Park_1145_PM.csv' has been created successfully.\n",
      "CSV file 'Belterra Park_1215_AM.csv' has been created successfully.\n",
      "CSV file 'Belterra Park_1245_AM.csv' has been created successfully.\n"
     ]
    }
   ],
   "source": [
    "\n",
    "for button in listButton:\n",
    "    button_text = button.text\n",
    "    combined_button = button_text.replace('\\n', ' ')\n",
    "    time_info = \" \".join(combined_button.split()[:2])\n",
    "    try:\n",
    "        # Click the button\n",
    "        driver.execute_script(\"arguments[0].click();\", button)\n",
    "        # Wait for some time for the new content to load\n",
    "        time.sleep(10)\n",
    "        horse_data = get_horse_data()\n",
    "        structured_data = structure_horse_data(horse_data)\n",
    "        write_horse_data_to_csv(track_name, time_info, structured_data)\n",
    "        # time.sleep(10)\n",
    "        \n",
    "    except Exception as e:\n",
    "        print(f'Error during iteration: {e}')"
   ]
  },
  {
   "cell_type": "code",
   "execution_count": 11,
   "metadata": {},
   "outputs": [],
   "source": [
    "driver.quit()"
   ]
  }
 ],
 "metadata": {
  "kernelspec": {
   "display_name": "Python 3",
   "language": "python",
   "name": "python3"
  },
  "language_info": {
   "codemirror_mode": {
    "name": "ipython",
    "version": 3
   },
   "file_extension": ".py",
   "mimetype": "text/x-python",
   "name": "python",
   "nbconvert_exporter": "python",
   "pygments_lexer": "ipython3",
   "version": "3.10.11"
  }
 },
 "nbformat": 4,
 "nbformat_minor": 2
}
